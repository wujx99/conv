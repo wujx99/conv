{
 "cells": [
  {
   "attachments": {},
   "cell_type": "markdown",
   "metadata": {},
   "source": [
    "分布式admm算法：\n",
    "$$ \\min_{W}\\sum_{i=1}^{n} L_{i}(x_{i};W) $$\n",
    "等价于\n",
    "$$ \\min_{W_{1} \\cdots W_{n},Z} \\sum_{i=1}^{n} L_{i}(x_{i};W_{i}) $$\n",
    "$$ s.t. \\quad W_{i} = Z \\quad (i = 1,\\cdots , n) $$\n",
    "拉格朗日函数为：\n",
    "$$ L_{c} = \\sum_{i=1}^{n}L_{i}(x_{i};W_{i}) + \\sum_{i=1}^{n} V_{i}\\odot \n",
    "(W_{i}-Z_{i}) + \\frac{c}{2} \\sum_{i=1}^{n}\\left \\| W_{i} -Z \\right\\|_{F}^{2} $$\n",
    "迭代公式\n",
    "$$1.\\quad W_{i}^{k+1} = arg\\min_{W_{i}} (L_{i}(x_{i};W_{i}) + V_{i}^{k}\\odot (W_{i}-Z_{i}^{k}) + \\frac{c}{2}\\left \\| W_{i} - Z^{k} \\right \\|_{F}^{2})$$\n",
    "$$\\quad\\qquad= arg\\min_{W_{i}} (L_{i}(x_{i};W_{i}) +  \\frac{c}{2}\\left \\| W_{i} - Z^{k}  + \\frac{V_{i}^{k}}{c} \\right \\|_{F}^{2})\\quad (\\forall i) $$\n",
    "$$2.\\quad  Z^{k+1} = arg \\min_{Z}\\frac{c}{2} \\sum_{i=1}^{n} \\left \\|Z -  W_{i}^{k+1} - \\frac{V_{i}^{k}}{c} \\right\\|_{F}^{2} $$\n",
    "$$= \\frac{1}{n}\\sum_{i=1}^{n}( W_{i}^{k+1} + \\frac{V_{i}^{k}}{c}) $$\n",
    "$$3.V_{i}^{k+1} = V_{i}^{k} + c(W_{i}^{k} - Z^{k+1}) \\qquad (\\forall i)$$"
   ]
  },
  {
   "attachments": {},
   "cell_type": "markdown",
   "metadata": {},
   "source": [
    "上面的admm算法与nn相结合就有：\n",
    "\n",
    "1. 其中迭代公式$1.$中$W_{k+1}$的更新需要用梯度下降的方式\n",
    "2. to be continue..."
   ]
  },
  {
   "attachments": {},
   "cell_type": "markdown",
   "metadata": {},
   "source": [
    "在test_cnn_admm.ipynb中admm算法实现是有问题的，每次迭代过程$L_{i}(x_{i},W_{i})$由于输入$x_{i}$的变化改变了，相当于admm同步的过程只是走了一步，相当于是实现了“一步”admm算法，其实也是work的，但是不是最原滋原味的admm。"
   ]
  },
  {
   "cell_type": "code",
   "execution_count": null,
   "metadata": {},
   "outputs": [],
   "source": []
  }
 ],
 "metadata": {
  "kernelspec": {
   "display_name": "Python 3",
   "language": "python",
   "name": "python3"
  },
  "language_info": {
   "codemirror_mode": {
    "name": "ipython",
    "version": 3
   },
   "file_extension": ".py",
   "mimetype": "text/x-python",
   "name": "python",
   "nbconvert_exporter": "python",
   "pygments_lexer": "ipython3",
   "version": "3.7.2"
  },
  "orig_nbformat": 4
 },
 "nbformat": 4,
 "nbformat_minor": 2
}
