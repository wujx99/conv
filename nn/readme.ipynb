{
 "cells": [
  {
   "attachments": {},
   "cell_type": "markdown",
   "metadata": {},
   "source": [
    "### 2023-4-18\n",
    "\n",
    "这是使用了admm和神经网络的bp算法的实现分布式学习的能力，保证不同agent的nn的weight的相同。\n",
    "\n",
    "nn.py是我写的模块\n",
    "admm_nn.ipynb是我写的最终的测试程序，结果很正常。\n"
   ]
  },
  {
   "attachments": {},
   "cell_type": "markdown",
   "metadata": {},
   "source": [
    "### 2023-5-19\n",
    "发现了我对nn训练过程的错误\n",
    "1. Q:在nn.py和conv_nn.py写的神经网络的训练过程的train函数有什么问题？A:我每一次训练的时候只是喂进去的只有一个数据就进行梯度下降了，相当于batch_size=1，所以说是可能出现问题的，batch_size应该可调好一些。"
   ]
  }
 ],
 "metadata": {
  "kernelspec": {
   "display_name": "Python 3",
   "language": "python",
   "name": "python3"
  },
  "language_info": {
   "codemirror_mode": {
    "name": "ipython",
    "version": 3
   },
   "file_extension": ".py",
   "mimetype": "text/x-python",
   "name": "python",
   "nbconvert_exporter": "python",
   "pygments_lexer": "ipython3",
   "version": "3.7.2"
  },
  "orig_nbformat": 4
 },
 "nbformat": 4,
 "nbformat_minor": 2
}
